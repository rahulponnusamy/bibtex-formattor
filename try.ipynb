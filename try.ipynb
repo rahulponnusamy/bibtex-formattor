{
 "cells": [
  {
   "cell_type": "code",
   "execution_count": 1,
   "metadata": {},
   "outputs": [],
   "source": [
    "def format_author_name(names: list) -> list: \n",
    "    formatted_names = []\n",
    "    for i in names:\n",
    "        name_parts = i[:-2].split()    \n",
    "        # Extract the last name\n",
    "        last_name = name_parts[-1]\n",
    "        # Extract the remaining names\n",
    "        remaining_names = ' '.join(name_parts[:-1])\n",
    "        # Format the name with last name first and remaining names after\n",
    "        formatted_name = f\"{last_name}, {remaining_names}\"\n",
    "        formatted_names.append(formatted_name.title())    \n",
    "    return formatted_names # return a list of formatted names"
   ]
  },
  {
   "cell_type": "code",
   "execution_count": 76,
   "metadata": {},
   "outputs": [],
   "source": [
    "# rahul ponnusamy, prasanna kumar kumaresan\n",
    "Bharathi Raja Chakravarthi1 , Prasanna Kumar Kumaresan2 , Ruba Priyadharshini3,\n",
    "Paul Buitelaar2 , Asha Hegde4 , Hosahalli Lakshmaiah Shashirekha4 , Saranya Rajiakodi5 ,\n",
    "Miguel Ángel García-Cumbreras6 , Salud María Jiménez-Zafra6 ,\n",
    "José Antonio García-Díaz7 , Rafael Valencia-García7 , Kishore Kumar Ponnusamy8 ,\n",
    "Poorvi Shetty9 , Daniel García-Baena6"
   ]
  },
  {
   "cell_type": "code",
   "execution_count": 2,
   "metadata": {},
   "outputs": [],
   "source": [
    "def main():\n",
    "    # Bibtex template\n",
    "    bibtex_template = \"\"\"@inproceedings{{  \n",
    "        {reference_name},\n",
    "        title = {{{title}}},\n",
    "        author = {{{author_names}}},\n",
    "        booktitle = {{Proceedings of the Fourth Workshop on Language Technology for Equality, Diversity and Inclusion}},\n",
    "        month = {{March}},\n",
    "        year = {{2024}},\n",
    "        address = {{Malta}},\n",
    "        publisher = {{European Chapter of the Association for Computational Linguistics}}\n",
    "        }}\"\"\"\n",
    "        \n",
    "        \n",
    "    reference_name = input(str(\"Please enter the name of the reference: \"))\n",
    "    title = input(str(\"Please enter the title of the reference: \"))\n",
    "    input_list = [str(x) for x in input(\"Enter Author names separated by comma: \").split(\",\")]\n",
    "    author_names = format_author_name(input_list)\n",
    "    author_names = ' and '.join([str(x) for x in author_names])\n",
    "    bibtex = bibtex_template.format(reference_name=reference_name, title=title.strip('\\''), author_names=author_names.strip('\\''))\n",
    "    print(bibtex) "
   ]
  },
  {
   "cell_type": "code",
   "execution_count": 55,
   "metadata": {},
   "outputs": [],
   "source": [
    "reference_name = \"chakravarthi-caste-2024-overview\"\n",
    "title = 'Overview of Shared Task on Caste/Immigration Hate Speech Detection'\n",
    "author_names = 'Ponnusamy, Rahul and Chakravarthi, Bharathi Raja and Kumaresan, Prasanna Kumar and Rajiakodi, Saranya and Thangasamy, Sathiyaraj and Rajkumar, Charmathi'"
   ]
  },
  {
   "cell_type": "code",
   "execution_count": 4,
   "metadata": {},
   "outputs": [
    {
     "name": "stdout",
     "output_type": "stream",
     "text": [
      "@inproceedings{  \n",
      "        reference,\n",
      "        title = {title},\n",
      "        author = {Chakravarthi, Bharathi Raja and Kumaresan, Prasanna Kumar and Priyadharshin, Ruba and Buitelaar, Paul and Hegde, Asha and Shashirekha, Hosahalli Lakshmaiah and Rajiakodi, Saranya and García-Cumbreras, Miguel Ángel and Jiménez-Zafra, Salud María and García-Díaz, José Antonio and Valencia-García, Rafael and Ponnusamy, Kishore Kumar and Shetty, Poorvi and García-Baen, Daniel},\n",
      "        booktitle = {Proceedings of the Fourth Workshop on Language Technology for Equality, Diversity and Inclusion},\n",
      "        month = {March},\n",
      "        year = {2024},\n",
      "        address = {Malta},\n",
      "        publisher = {European Chapter of the Association for Computational Linguistics}\n",
      "        }\n"
     ]
    }
   ],
   "source": [
    "main()"
   ]
  },
  {
   "cell_type": "code",
   "execution_count": null,
   "metadata": {},
   "outputs": [],
   "source": []
  }
 ],
 "metadata": {
  "kernelspec": {
   "display_name": "practice",
   "language": "python",
   "name": "python3"
  },
  "language_info": {
   "codemirror_mode": {
    "name": "ipython",
    "version": 3
   },
   "file_extension": ".py",
   "mimetype": "text/x-python",
   "name": "python",
   "nbconvert_exporter": "python",
   "pygments_lexer": "ipython3",
   "version": "3.12.1"
  }
 },
 "nbformat": 4,
 "nbformat_minor": 2
}
