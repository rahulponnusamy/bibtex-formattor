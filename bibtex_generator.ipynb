{
  "cells": [
    {
      "cell_type": "code",
      "execution_count": 68,
      "metadata": {
        "id": "HngyI19pwKn_"
      },
      "outputs": [],
      "source": [
        "def format_author_name(names: list) -> list:\n",
        "    formatted_names = []\n",
        "    for name in names:\n",
        "        # Split the full name into tokens by spaces.\n",
        "        tokens = name.split()\n",
        "        if not tokens:\n",
        "            continue  # Skip if the name is empty.\n",
        "\n",
        "        # Check if the last token is entirely numeric.\n",
        "        if tokens[-1].isdigit():\n",
        "            # Remove the last token if it's just a number.\n",
        "            tokens.pop()\n",
        "        else:\n",
        "            # Remove trailing digits from the last token, if any.\n",
        "            tokens[-1] = tokens[-1].rstrip(\"0123456789†\")\n",
        "\n",
        "        # After processing, the last token is considered the last name.\n",
        "        last_name = tokens[-1] if tokens else \"\"\n",
        "        # All preceding tokens (if any) are treated as the remaining names.\n",
        "        remaining_names = \" \".join(tokens[:-1])\n",
        "\n",
        "        # Format the name: if there are remaining names, output \"LastName, Remaining Names\"\n",
        "        # Otherwise, just output the last name.\n",
        "        if remaining_names:\n",
        "            formatted_name = f\"{last_name}, {remaining_names}\"\n",
        "        else:\n",
        "            formatted_name = last_name\n",
        "\n",
        "        # Convert the result to title case.\n",
        "        formatted_names.append(formatted_name.title())\n",
        "    return formatted_names\n",
        "\n",
        "def process_title(title):\n",
        "    \"\"\"\n",
        "    Process the input title string so that every uppercase letter is enclosed in curly brackets.\n",
        "    If consecutive uppercase letters are found (e.g., an acronym), they are grouped together.\n",
        "\n",
        "    For example:\n",
        "      Input:  \"Overview of Shared Task on Caste/Immigration Hate Speech Detection @ NAACL 2025\"\n",
        "      Output: \"{O}verview of {S}hared {T}ask on {C}aste/{I}mmigration {H}ate {S}peech {D}etection @ {NAACL} 2025\"\n",
        "\n",
        "    Note: In this output, the text after '@' is also processed if it contains uppercase letters.\n",
        "    \"\"\"\n",
        "    result = \"\"\n",
        "    in_group = False  # Indicates if we're inside a group of uppercase letters.\n",
        "\n",
        "    for char in title:\n",
        "        if char.isupper():\n",
        "            # If we see an uppercase letter and we are not already in a group,\n",
        "            # start a new group by adding an opening curly bracket.\n",
        "            if not in_group:\n",
        "                result += \"{\" + char\n",
        "                in_group = True\n",
        "            else:\n",
        "                # Continue the current group if already started.\n",
        "                result += char\n",
        "        else:\n",
        "            # When a non-uppercase letter is encountered, close any open group.\n",
        "            if in_group:\n",
        "                result += \"}\"\n",
        "                in_group = False\n",
        "            result += char\n",
        "\n",
        "    # Close the group if the title ends with uppercase letters.\n",
        "    if in_group:\n",
        "        result += \"}\"\n",
        "\n",
        "    return result"
      ]
    },
    {
      "cell_type": "code",
      "execution_count": 69,
      "metadata": {
        "id": "w1dmBhPSwKoA"
      },
      "outputs": [],
      "source": [
        "# rahul ponnusamy, prasanna kumar kumaresan\n",
        "# Bharathi Raja Chakravarthi1 , Prasanna Kumar Kumaresan2 , Ruba Priyadharshini3,\n",
        "# Paul Buitelaar2 , Asha Hegde4 , Hosahalli Lakshmaiah Shashirekha4 , Saranya Rajiakodi5 ,\n",
        "# Miguel Ángel García-Cumbreras6 , Salud María Jiménez-Zafra6 ,\n",
        "# José Antonio García-Díaz7 , Rafael Valencia-García7 , Kishore Kumar Ponnusamy8 ,\n",
        "# Poorvi Shetty9 , Daniel García-Baena6"
      ]
    },
    {
      "cell_type": "code",
      "execution_count": 70,
      "metadata": {
        "id": "EmiZ-hwOwKoA"
      },
      "outputs": [],
      "source": [
        "def main(reference_name, title, names):\n",
        "    # Bibtex template\n",
        "    bibtex_template = \"\"\"@inproceedings{{{reference_name},\n",
        "title = {{{title}}},\n",
        "author = {{{author_names}}},\n",
        "booktitle = {{Proceedings of the Fifth Workshop on Speech, Vision, and Language Technologies for Dravidian Languages}},\n",
        "publisher = {{Association for Computational Linguistics}},\n",
        "year = {{2025}}\n",
        "}}\"\"\"\n",
        "\n",
        "    processed_title = process_title(title.strip(\"'\"))\n",
        "    # reference_name = input(str(\"Please enter the name of the reference: \"))\n",
        "    # title = input(str(\"Please enter the title of the reference: \"))\n",
        "    input_list = [str(x) for x in names.split(\",\")]\n",
        "    author_names = format_author_name(input_list)\n",
        "    author_names = ' and '.join([str(x) for x in author_names])\n",
        "    bibtex = bibtex_template.format(reference_name=reference_name,\n",
        "                                    title=processed_title,\n",
        "                                    author_names=author_names.strip('\\''))\n",
        "    print(bibtex)"
      ]
    },
    {
      "cell_type": "code",
      "execution_count": 73,
      "metadata": {
        "id": "wVlZTxDSwKoA"
      },
      "outputs": [],
      "source": [
        "reference_name = \"team-strickers-2025-misogyny\"\n",
        "title = 'TEAM_STRIKERS@DravidianLangTech2025: Misogyny Meme Detection in Tamil Using Multimodal Deep Learning'\n",
        "author_names = 'Kogilavani Shanmugavadivel1 , Malliga Subramanian2 , Mohamed Arsath H1 , Ramya K1 , Ragav R1'"
      ]
    },
    {
      "cell_type": "code",
      "execution_count": 74,
      "metadata": {
        "colab": {
          "base_uri": "https://localhost:8080/"
        },
        "id": "q07YATVVwKoA",
        "outputId": "ccccebbc-d8f7-47ad-96e5-2d0eb40b9cc7"
      },
      "outputs": [
        {
          "output_type": "stream",
          "name": "stdout",
          "text": [
            "@inproceedings{team-strickers-2025-misogyny,\n",
            "title = {{TEAM}_{STRIKERS}@{D}ravidian{L}ang{T}ech2025: {M}isogyny {M}eme {D}etection in {T}amil {U}sing {M}ultimodal {D}eep {L}earning},\n",
            "author = {Shanmugavadivel, Kogilavani and Subramanian, Malliga and H, Mohamed Arsath and K, Ramya and R, Ragav},\n",
            "booktitle = {Proceedings of the Fifth Workshop on Speech, Vision, and Language Technologies for Dravidian Languages},\n",
            "publisher = {Association for Computational Linguistics},\n",
            "year = {2025}\n",
            "}\n"
          ]
        }
      ],
      "source": [
        "main(reference_name, title, author_names)"
      ]
    },
    {
      "cell_type": "code",
      "execution_count": null,
      "metadata": {
        "id": "-tRFfhjTwKoA"
      },
      "outputs": [],
      "source": []
    }
  ],
  "metadata": {
    "kernelspec": {
      "display_name": "practice",
      "language": "python",
      "name": "python3"
    },
    "language_info": {
      "codemirror_mode": {
        "name": "ipython",
        "version": 3
      },
      "file_extension": ".py",
      "mimetype": "text/x-python",
      "name": "python",
      "nbconvert_exporter": "python",
      "pygments_lexer": "ipython3",
      "version": "3.12.1"
    },
    "colab": {
      "provenance": []
    }
  },
  "nbformat": 4,
  "nbformat_minor": 0
}